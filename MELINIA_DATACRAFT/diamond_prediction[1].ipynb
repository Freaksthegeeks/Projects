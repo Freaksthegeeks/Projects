{
 "cells": [
  {
   "cell_type": "markdown",
   "id": "358802ae",
   "metadata": {},
   "source": [
    "# import necessary libraries"
   ]
  },
  {
   "cell_type": "code",
   "execution_count": 2,
   "id": "58b90afa",
   "metadata": {},
   "outputs": [
    {
     "ename": "ModuleNotFoundError",
     "evalue": "No module named 'seaborn'",
     "output_type": "error",
     "traceback": [
      "\u001b[1;31m---------------------------------------------------------------------------\u001b[0m",
      "\u001b[1;31mModuleNotFoundError\u001b[0m                       Traceback (most recent call last)",
      "Cell \u001b[1;32mIn[2], line 3\u001b[0m\n\u001b[0;32m      1\u001b[0m \u001b[38;5;28;01mimport\u001b[39;00m \u001b[38;5;21;01mpandas\u001b[39;00m \u001b[38;5;28;01mas\u001b[39;00m \u001b[38;5;21;01mpd\u001b[39;00m\n\u001b[0;32m      2\u001b[0m \u001b[38;5;28;01mimport\u001b[39;00m \u001b[38;5;21;01mnumpy\u001b[39;00m \u001b[38;5;28;01mas\u001b[39;00m \u001b[38;5;21;01mnp\u001b[39;00m\n\u001b[1;32m----> 3\u001b[0m \u001b[38;5;28;01mimport\u001b[39;00m \u001b[38;5;21;01mseaborn\u001b[39;00m \u001b[38;5;28;01mas\u001b[39;00m \u001b[38;5;21;01msns\u001b[39;00m\n\u001b[0;32m      4\u001b[0m \u001b[38;5;28;01mimport\u001b[39;00m \u001b[38;5;21;01mmatplotlib\u001b[39;00m\u001b[38;5;21;01m.\u001b[39;00m\u001b[38;5;21;01mpyplot\u001b[39;00m \u001b[38;5;28;01mas\u001b[39;00m \u001b[38;5;21;01mplt\u001b[39;00m\n",
      "\u001b[1;31mModuleNotFoundError\u001b[0m: No module named 'seaborn'"
     ]
    }
   ],
   "source": [
    "import pandas as pd\n",
    "import numpy as np\n",
    "import seaborn as sns\n",
    "import matplotlib.pyplot as plt\n"
   ]
  },
  {
   "cell_type": "markdown",
   "id": "6b4d2776",
   "metadata": {},
   "source": [
    "   #### loading data"
   ]
  },
  {
   "cell_type": "code",
   "execution_count": 88,
   "id": "33515a15",
   "metadata": {},
   "outputs": [],
   "source": [
    "df=pd.read_csv(r\"C:\\Users\\Varun S\\Downloads\\cleaned_dataset - cleaned_dataset.csv\")"
   ]
  },
  {
   "cell_type": "markdown",
   "id": "eb7dffcd",
   "metadata": {},
   "source": [
    "TO DISPLAY"
   ]
  },
  {
   "cell_type": "code",
   "execution_count": 90,
   "id": "e9c24d23",
   "metadata": {},
   "outputs": [
    {
     "data": {
      "text/html": [
       "<div>\n",
       "<style scoped>\n",
       "    .dataframe tbody tr th:only-of-type {\n",
       "        vertical-align: middle;\n",
       "    }\n",
       "\n",
       "    .dataframe tbody tr th {\n",
       "        vertical-align: top;\n",
       "    }\n",
       "\n",
       "    .dataframe thead th {\n",
       "        text-align: right;\n",
       "    }\n",
       "</style>\n",
       "<table border=\"1\" class=\"dataframe\">\n",
       "  <thead>\n",
       "    <tr style=\"text-align: right;\">\n",
       "      <th></th>\n",
       "      <th>Course</th>\n",
       "      <th>Mother's occupation</th>\n",
       "      <th>Father's occupation</th>\n",
       "      <th>Application mode</th>\n",
       "      <th>Mother's qualification</th>\n",
       "      <th>Father's qualification</th>\n",
       "      <th>Admission grade</th>\n",
       "      <th>Previous qualification (grade)</th>\n",
       "      <th>Previous qualification</th>\n",
       "      <th>Age at enrollment</th>\n",
       "      <th>Nacionality</th>\n",
       "      <th>Curricular units 2nd sem (grade)</th>\n",
       "      <th>Curricular units 1st sem (grade)</th>\n",
       "      <th>Curricular units 1st sem (evaluations)</th>\n",
       "      <th>Curricular units 2nd sem (evaluations)</th>\n",
       "      <th>Target</th>\n",
       "    </tr>\n",
       "  </thead>\n",
       "  <tbody>\n",
       "    <tr>\n",
       "      <th>0</th>\n",
       "      <td>171</td>\n",
       "      <td>5</td>\n",
       "      <td>9</td>\n",
       "      <td>17</td>\n",
       "      <td>19</td>\n",
       "      <td>12</td>\n",
       "      <td>127.3</td>\n",
       "      <td>122.0</td>\n",
       "      <td>1</td>\n",
       "      <td>20</td>\n",
       "      <td>1</td>\n",
       "      <td>0.000000</td>\n",
       "      <td>0.000000</td>\n",
       "      <td>0</td>\n",
       "      <td>0</td>\n",
       "      <td>Dropout</td>\n",
       "    </tr>\n",
       "    <tr>\n",
       "      <th>1</th>\n",
       "      <td>9254</td>\n",
       "      <td>3</td>\n",
       "      <td>3</td>\n",
       "      <td>15</td>\n",
       "      <td>1</td>\n",
       "      <td>3</td>\n",
       "      <td>142.5</td>\n",
       "      <td>160.0</td>\n",
       "      <td>1</td>\n",
       "      <td>19</td>\n",
       "      <td>1</td>\n",
       "      <td>13.666667</td>\n",
       "      <td>14.000000</td>\n",
       "      <td>6</td>\n",
       "      <td>6</td>\n",
       "      <td>Graduate</td>\n",
       "    </tr>\n",
       "    <tr>\n",
       "      <th>2</th>\n",
       "      <td>9070</td>\n",
       "      <td>9</td>\n",
       "      <td>9</td>\n",
       "      <td>1</td>\n",
       "      <td>37</td>\n",
       "      <td>37</td>\n",
       "      <td>124.8</td>\n",
       "      <td>122.0</td>\n",
       "      <td>1</td>\n",
       "      <td>19</td>\n",
       "      <td>1</td>\n",
       "      <td>0.000000</td>\n",
       "      <td>0.000000</td>\n",
       "      <td>0</td>\n",
       "      <td>0</td>\n",
       "      <td>Dropout</td>\n",
       "    </tr>\n",
       "    <tr>\n",
       "      <th>3</th>\n",
       "      <td>9773</td>\n",
       "      <td>5</td>\n",
       "      <td>3</td>\n",
       "      <td>17</td>\n",
       "      <td>38</td>\n",
       "      <td>37</td>\n",
       "      <td>119.6</td>\n",
       "      <td>122.0</td>\n",
       "      <td>1</td>\n",
       "      <td>20</td>\n",
       "      <td>1</td>\n",
       "      <td>12.400000</td>\n",
       "      <td>13.428571</td>\n",
       "      <td>8</td>\n",
       "      <td>10</td>\n",
       "      <td>Graduate</td>\n",
       "    </tr>\n",
       "    <tr>\n",
       "      <th>4</th>\n",
       "      <td>8014</td>\n",
       "      <td>9</td>\n",
       "      <td>9</td>\n",
       "      <td>39</td>\n",
       "      <td>37</td>\n",
       "      <td>38</td>\n",
       "      <td>141.5</td>\n",
       "      <td>100.0</td>\n",
       "      <td>1</td>\n",
       "      <td>45</td>\n",
       "      <td>1</td>\n",
       "      <td>13.000000</td>\n",
       "      <td>12.333333</td>\n",
       "      <td>9</td>\n",
       "      <td>6</td>\n",
       "      <td>Graduate</td>\n",
       "    </tr>\n",
       "  </tbody>\n",
       "</table>\n",
       "</div>"
      ],
      "text/plain": [
       "   Course  Mother's occupation  Father's occupation  Application mode  \\\n",
       "0     171                    5                    9                17   \n",
       "1    9254                    3                    3                15   \n",
       "2    9070                    9                    9                 1   \n",
       "3    9773                    5                    3                17   \n",
       "4    8014                    9                    9                39   \n",
       "\n",
       "   Mother's qualification  Father's qualification  Admission grade  \\\n",
       "0                      19                      12            127.3   \n",
       "1                       1                       3            142.5   \n",
       "2                      37                      37            124.8   \n",
       "3                      38                      37            119.6   \n",
       "4                      37                      38            141.5   \n",
       "\n",
       "   Previous qualification (grade)  Previous qualification  Age at enrollment  \\\n",
       "0                           122.0                       1                 20   \n",
       "1                           160.0                       1                 19   \n",
       "2                           122.0                       1                 19   \n",
       "3                           122.0                       1                 20   \n",
       "4                           100.0                       1                 45   \n",
       "\n",
       "   Nacionality  Curricular units 2nd sem (grade)  \\\n",
       "0            1                          0.000000   \n",
       "1            1                         13.666667   \n",
       "2            1                          0.000000   \n",
       "3            1                         12.400000   \n",
       "4            1                         13.000000   \n",
       "\n",
       "   Curricular units 1st sem (grade)  Curricular units 1st sem (evaluations)  \\\n",
       "0                          0.000000                                       0   \n",
       "1                         14.000000                                       6   \n",
       "2                          0.000000                                       0   \n",
       "3                         13.428571                                       8   \n",
       "4                         12.333333                                       9   \n",
       "\n",
       "   Curricular units 2nd sem (evaluations)    Target  \n",
       "0                                       0   Dropout  \n",
       "1                                       6  Graduate  \n",
       "2                                       0   Dropout  \n",
       "3                                      10  Graduate  \n",
       "4                                       6  Graduate  "
      ]
     },
     "execution_count": 90,
     "metadata": {},
     "output_type": "execute_result"
    }
   ],
   "source": [
    "\n",
    "df.head()\n"
   ]
  },
  {
   "cell_type": "markdown",
   "id": "d64fe891",
   "metadata": {},
   "source": [
    "CLEANING DATA"
   ]
  },
  {
   "cell_type": "code",
   "execution_count": 91,
   "id": "928fa3d6",
   "metadata": {},
   "outputs": [
    {
     "name": "stdout",
     "output_type": "stream",
     "text": [
      "      Course  Mother's occupation  Father's occupation  Application mode  \\\n",
      "0        171                    5                    9                17   \n",
      "1       9254                    3                    3                15   \n",
      "2       9070                    9                    9                 1   \n",
      "3       9773                    5                    3                17   \n",
      "4       8014                    9                    9                39   \n",
      "...      ...                  ...                  ...               ...   \n",
      "4419    9773                    5                    4                 1   \n",
      "4420    9773                    9                    9                 1   \n",
      "4421    9500                    9                    9                 1   \n",
      "4422    9147                    7                    4                 1   \n",
      "4423    9773                    5                    9                10   \n",
      "\n",
      "      Mother's qualification  Father's qualification  Admission grade  \\\n",
      "0                         19                      12            127.3   \n",
      "1                          1                       3            142.5   \n",
      "2                         37                      37            124.8   \n",
      "3                         38                      37            119.6   \n",
      "4                         37                      38            141.5   \n",
      "...                      ...                     ...              ...   \n",
      "4419                       1                       1            122.2   \n",
      "4420                       1                       1            119.0   \n",
      "4421                      37                      37            149.5   \n",
      "4422                      37                      37            153.8   \n",
      "4423                      38                      37            152.0   \n",
      "\n",
      "      Previous qualification (grade)  Previous qualification  \\\n",
      "0                              122.0                       1   \n",
      "1                              160.0                       1   \n",
      "2                              122.0                       1   \n",
      "3                              122.0                       1   \n",
      "4                              100.0                       1   \n",
      "...                              ...                     ...   \n",
      "4419                           125.0                       1   \n",
      "4420                           120.0                       1   \n",
      "4421                           154.0                       1   \n",
      "4422                           180.0                       1   \n",
      "4423                           152.0                       1   \n",
      "\n",
      "      Age at enrollment  Nacionality  Curricular units 2nd sem (grade)  \\\n",
      "0                    20            1                          0.000000   \n",
      "1                    19            1                         13.666667   \n",
      "2                    19            1                          0.000000   \n",
      "3                    20            1                         12.400000   \n",
      "4                    45            1                         13.000000   \n",
      "...                 ...          ...                               ...   \n",
      "4419                 19            1                         12.666667   \n",
      "4420                 18          105                         11.000000   \n",
      "4421                 30            1                         13.500000   \n",
      "4422                 20            1                         12.000000   \n",
      "4423                 22           22                         13.000000   \n",
      "\n",
      "      Curricular units 1st sem (grade)  \\\n",
      "0                             0.000000   \n",
      "1                            14.000000   \n",
      "2                             0.000000   \n",
      "3                            13.428571   \n",
      "4                            12.333333   \n",
      "...                                ...   \n",
      "4419                         13.600000   \n",
      "4420                         12.000000   \n",
      "4421                         14.912500   \n",
      "4422                         13.800000   \n",
      "4423                         11.666667   \n",
      "\n",
      "      Curricular units 1st sem (evaluations)  \\\n",
      "0                                          0   \n",
      "1                                          6   \n",
      "2                                          0   \n",
      "3                                          8   \n",
      "4                                          9   \n",
      "...                                      ...   \n",
      "4419                                       7   \n",
      "4420                                       6   \n",
      "4421                                       8   \n",
      "4422                                       5   \n",
      "4423                                       8   \n",
      "\n",
      "      Curricular units 2nd sem (evaluations)    Target  \n",
      "0                                          0   Dropout  \n",
      "1                                          6  Graduate  \n",
      "2                                          0   Dropout  \n",
      "3                                         10  Graduate  \n",
      "4                                          6  Graduate  \n",
      "...                                      ...       ...  \n",
      "4419                                       8  Graduate  \n",
      "4420                                       6   Dropout  \n",
      "4421                                       9   Dropout  \n",
      "4422                                       6  Graduate  \n",
      "4423                                       6  Graduate  \n",
      "\n",
      "[4424 rows x 16 columns]\n"
     ]
    }
   ],
   "source": [
    "df=df.drop_duplicates()\n",
    "print(df)"
   ]
  },
  {
   "cell_type": "markdown",
   "id": "28e492d0",
   "metadata": {},
   "source": [
    "#### checking for null values"
   ]
  },
  {
   "cell_type": "code",
   "execution_count": 92,
   "id": "4a81a40c",
   "metadata": {},
   "outputs": [
    {
     "data": {
      "text/plain": [
       "Course                                    0\n",
       "Mother's occupation                       0\n",
       "Father's occupation                       0\n",
       "Application mode                          0\n",
       "Mother's qualification                    0\n",
       "Father's qualification                    0\n",
       "Admission grade                           0\n",
       "Previous qualification (grade)            0\n",
       "Previous qualification                    0\n",
       "Age at enrollment                         0\n",
       "Nacionality                               0\n",
       "Curricular units 2nd sem (grade)          0\n",
       "Curricular units 1st sem (grade)          0\n",
       "Curricular units 1st sem (evaluations)    0\n",
       "Curricular units 2nd sem (evaluations)    0\n",
       "Target                                    0\n",
       "dtype: int64"
      ]
     },
     "execution_count": 92,
     "metadata": {},
     "output_type": "execute_result"
    }
   ],
   "source": [
    "df.isnull().sum()\n",
    "# df['column'].fillna(df['column'].mean(),inplace=True)"
   ]
  },
  {
   "cell_type": "markdown",
   "id": "3d1e6725",
   "metadata": {},
   "source": [
    "filling new values"
   ]
  },
  {
   "cell_type": "code",
   "execution_count": 93,
   "id": "41f47c70",
   "metadata": {},
   "outputs": [],
   "source": [
    "df = df.fillna(23)"
   ]
  },
  {
   "cell_type": "markdown",
   "id": "53e14fec",
   "metadata": {},
   "source": [
    "SUMMARY OF A DATASET"
   ]
  },
  {
   "cell_type": "code",
   "execution_count": 94,
   "id": "a17a47bc",
   "metadata": {},
   "outputs": [
    {
     "name": "stdout",
     "output_type": "stream",
     "text": [
      "            Course  Mother's occupation  Father's occupation  \\\n",
      "count  4424.000000          4424.000000          4424.000000   \n",
      "mean   8856.642631            10.960895            11.032324   \n",
      "std    2063.566416            26.418253            25.263040   \n",
      "min      33.000000             0.000000             0.000000   \n",
      "25%    9085.000000             4.000000             4.000000   \n",
      "50%    9238.000000             5.000000             7.000000   \n",
      "75%    9556.000000             9.000000             9.000000   \n",
      "max    9991.000000           194.000000           195.000000   \n",
      "\n",
      "       Application mode  Mother's qualification  Father's qualification  \\\n",
      "count       4424.000000             4424.000000             4424.000000   \n",
      "mean          18.669078               19.561935               22.275316   \n",
      "std           17.484682               15.603186               15.343108   \n",
      "min            1.000000                1.000000                1.000000   \n",
      "25%            1.000000                2.000000                3.000000   \n",
      "50%           17.000000               19.000000               19.000000   \n",
      "75%           39.000000               37.000000               37.000000   \n",
      "max           57.000000               44.000000               44.000000   \n",
      "\n",
      "       Admission grade  Previous qualification (grade)  \\\n",
      "count      4424.000000                     4424.000000   \n",
      "mean        126.978119                      132.613314   \n",
      "std          14.482001                       13.188332   \n",
      "min          95.000000                       95.000000   \n",
      "25%         117.900000                      125.000000   \n",
      "50%         126.100000                      133.100000   \n",
      "75%         134.800000                      140.000000   \n",
      "max         190.000000                      190.000000   \n",
      "\n",
      "       Previous qualification  Age at enrollment  Nacionality  \\\n",
      "count             4424.000000        4424.000000  4424.000000   \n",
      "mean                 4.577758          23.265145     1.873192   \n",
      "std                 10.216592           7.587816     6.914514   \n",
      "min                  1.000000          17.000000     1.000000   \n",
      "25%                  1.000000          19.000000     1.000000   \n",
      "50%                  1.000000          20.000000     1.000000   \n",
      "75%                  1.000000          25.000000     1.000000   \n",
      "max                 43.000000          70.000000   109.000000   \n",
      "\n",
      "       Curricular units 2nd sem (grade)  Curricular units 1st sem (grade)  \\\n",
      "count                       4424.000000                       4424.000000   \n",
      "mean                          10.230206                         10.640822   \n",
      "std                            5.210808                          4.843663   \n",
      "min                            0.000000                          0.000000   \n",
      "25%                           10.750000                         11.000000   \n",
      "50%                           12.200000                         12.285714   \n",
      "75%                           13.333333                         13.400000   \n",
      "max                           18.571429                         18.875000   \n",
      "\n",
      "       Curricular units 1st sem (evaluations)  \\\n",
      "count                             4424.000000   \n",
      "mean                                 8.299051   \n",
      "std                                  4.179106   \n",
      "min                                  0.000000   \n",
      "25%                                  6.000000   \n",
      "50%                                  8.000000   \n",
      "75%                                 10.000000   \n",
      "max                                 45.000000   \n",
      "\n",
      "       Curricular units 2nd sem (evaluations)  \n",
      "count                             4424.000000  \n",
      "mean                                 8.063291  \n",
      "std                                  3.947951  \n",
      "min                                  0.000000  \n",
      "25%                                  6.000000  \n",
      "50%                                  8.000000  \n",
      "75%                                 10.000000  \n",
      "max                                 33.000000  \n"
     ]
    }
   ],
   "source": [
    "df=df.describe()\n",
    "print(df)"
   ]
  },
  {
   "cell_type": "markdown",
   "id": "ccef2202",
   "metadata": {},
   "source": [
    "#### just for time being taken few features for analaysis"
   ]
  },
  {
   "cell_type": "code",
   "execution_count": 95,
   "id": "269ef6e7",
   "metadata": {},
   "outputs": [
    {
     "name": "stdout",
     "output_type": "stream",
     "text": [
      "       Curricular units 2nd sem (grade)  \\\n",
      "count                       4424.000000   \n",
      "mean                          10.230206   \n",
      "std                            5.210808   \n",
      "min                            0.000000   \n",
      "25%                           10.750000   \n",
      "50%                           12.200000   \n",
      "75%                           13.333333   \n",
      "max                           18.571429   \n",
      "\n",
      "       Curricular units 2nd sem (evaluations)  \n",
      "count                             4424.000000  \n",
      "mean                                 8.063291  \n",
      "std                                  3.947951  \n",
      "min                                  0.000000  \n",
      "25%                                  6.000000  \n",
      "50%                                  8.000000  \n",
      "75%                                 10.000000  \n",
      "max                                 33.000000  \n"
     ]
    }
   ],
   "source": [
    "df1=df[[\"Curricular units 2nd sem (grade)\",\"Curricular units 2nd sem (evaluations)\"]]\n",
    "print(df1)"
   ]
  },
  {
   "cell_type": "markdown",
   "id": "dcb34830",
   "metadata": {},
   "source": [
    "#### Linear Regression\n",
    "\n",
    "1. target variable should follow normal distribution\n",
    "2. no multicollinearity\n",
    "3. homogeneity of variances\n",
    "4. y=ax+b != x = ay+b"
   ]
  },
  {
   "cell_type": "code",
   "execution_count": 96,
   "id": "41100954",
   "metadata": {},
   "outputs": [
    {
     "name": "stdout",
     "output_type": "stream",
     "text": [
      "                                        Curricular units 2nd sem (grade)  \\\n",
      "Curricular units 2nd sem (grade)                                1.000000   \n",
      "Curricular units 2nd sem (evaluations)                          0.999992   \n",
      "\n",
      "                                        Curricular units 2nd sem (evaluations)  \n",
      "Curricular units 2nd sem (grade)                                      0.999992  \n",
      "Curricular units 2nd sem (evaluations)                                1.000000  \n"
     ]
    }
   ],
   "source": [
    "correlation_matrix = df1.corr()\n",
    "print(correlation_matrix)\n"
   ]
  },
  {
   "cell_type": "code",
   "execution_count": 98,
   "id": "754985e7",
   "metadata": {},
   "outputs": [
    {
     "name": "stdout",
     "output_type": "stream",
     "text": [
      "       Curricular units 1st sem (grade)  \\\n",
      "count                       4424.000000   \n",
      "mean                          10.640822   \n",
      "std                            4.843663   \n",
      "min                            0.000000   \n",
      "25%                           11.000000   \n",
      "50%                           12.285714   \n",
      "75%                           13.400000   \n",
      "max                           18.875000   \n",
      "\n",
      "       Curricular units 1st sem (evaluations)  \n",
      "count                             4424.000000  \n",
      "mean                                 8.299051  \n",
      "std                                  4.179106  \n",
      "min                                  0.000000  \n",
      "25%                                  6.000000  \n",
      "50%                                  8.000000  \n",
      "75%                                 10.000000  \n",
      "max                                 45.000000  \n"
     ]
    }
   ],
   "source": [
    "df2=df[[\"Curricular units 1st sem (grade)\",\"Curricular units 1st sem (evaluations)\"]]\n",
    "print(df2)"
   ]
  },
  {
   "cell_type": "code",
   "execution_count": 99,
   "id": "71dac377",
   "metadata": {},
   "outputs": [
    {
     "name": "stdout",
     "output_type": "stream",
     "text": [
      "                                        Curricular units 1st sem (grade)  \\\n",
      "Curricular units 1st sem (grade)                                1.000000   \n",
      "Curricular units 1st sem (evaluations)                          0.999979   \n",
      "\n",
      "                                        Curricular units 1st sem (evaluations)  \n",
      "Curricular units 1st sem (grade)                                      0.999979  \n",
      "Curricular units 1st sem (evaluations)                                1.000000  \n"
     ]
    }
   ],
   "source": [
    "correlation_matrix1 = df2.corr()\n",
    "print(correlation_matrix1)"
   ]
  },
  {
   "cell_type": "markdown",
   "id": "b447c3bf",
   "metadata": {},
   "source": [
    "PLOT FOR DATA"
   ]
  },
  {
   "cell_type": "code",
   "execution_count": 100,
   "id": "a9653862",
   "metadata": {},
   "outputs": [
    {
     "data": {
      "image/png": "[encoded data removed]",
      "text/plain": [
       "<Figure size 500x500 with 1 Axes>"
      ]
     },
     "metadata": {},
     "output_type": "display_data"
    }
   ],
   "source": [
    "sns.displot(df[\"Curricular units 1st sem (grade)\"])\n",
    "plt.show()"
   ]
  },
  {
   "cell_type": "code",
   "execution_count": 101,
   "id": "f69ff45e",
   "metadata": {},
   "outputs": [
    {
     "data": {
      "image/png": "[encoded data removed]",
      "text/plain": [
       "<Figure size 500x500 with 1 Axes>"
      ]
     },
     "metadata": {},
     "output_type": "display_data"
    }
   ],
   "source": [
    "sns.displot(df[\"Curricular units 2nd sem (grade)\"])\n",
    "plt.show()"
   ]
  },
  {
   "cell_type": "code",
   "execution_count": 102,
   "id": "2e60e5cb",
   "metadata": {},
   "outputs": [
    {
     "data": {
      "text/plain": [
       "<seaborn.axisgrid.FacetGrid at 0x180c1d63260>"
      ]
     },
     "execution_count": 102,
     "metadata": {},
     "output_type": "execute_result"
    },
    {
     "data": {
      "image/png": "[encoded data removed]",
      "text/plain": [
       "<Figure size 500x500 with 1 Axes>"
      ]
     },
     "metadata": {},
     "output_type": "display_data"
    }
   ],
   "source": [
    "sns.displot(df[\"Curricular units 1st sem (evaluations)\"])\n"
   ]
  },
  {
   "cell_type": "code",
   "execution_count": 103,
   "id": "a23fd254",
   "metadata": {},
   "outputs": [
    {
     "data": {
      "text/plain": [
       "<seaborn.axisgrid.FacetGrid at 0x180c1c6c920>"
      ]
     },
     "execution_count": 103,
     "metadata": {},
     "output_type": "execute_result"
    },
    {
     "data": {
      "image/png": "[encoded data removed]",
      "text/plain": [
       "<Figure size 500x500 with 1 Axes>"
      ]
     },
     "metadata": {},
     "output_type": "display_data"
    }
   ],
   "source": [
    "sns.displot(df[\"Curricular units 2nd sem (evaluations)\"])\n"
   ]
  },
  {
   "cell_type": "markdown",
   "id": "7c284c75",
   "metadata": {},
   "source": [
    "HEATMAP FOR SPECIFIC DATA"
   ]
  },
  {
   "cell_type": "code",
   "execution_count": 113,
   "id": "2ff179d6",
   "metadata": {},
   "outputs": [
    {
     "data": {
      "text/plain": [
       "<Axes: >"
      ]
     },
     "execution_count": 113,
     "metadata": {},
     "output_type": "execute_result"
    },
    {
     "data": {
      "image/png": "[encoded data removed]",
      "text/plain": [
       "<Figure size 640x480 with 2 Axes>"
      ]
     },
     "metadata": {},
     "output_type": "display_data"
    }
   ],
   "source": [
    "df5=df[[\"Admission grade\",\"Previous qualification (grade)\",\"Curricular units 1st sem (grade)\",\"Curricular units 1st sem (evaluations)\",\"Curricular units 2nd sem (grade)\",\"Curricular units 2nd sem (evaluations)\"]]\n",
    "sns.heatmap(df5.corr(\"spearman\"),cmap=plt.cm.CMRmap_r)\n"
   ]
  },
  {
   "cell_type": "markdown",
   "id": "0d82b714",
   "metadata": {},
   "source": [
    "TRAIN AND TEST DATA SET"
   ]
  },
  {
   "cell_type": "code",
   "execution_count": 1,
   "id": "622c5751",
   "metadata": {},
   "outputs": [
    {
     "ename": "ModuleNotFoundError",
     "evalue": "No module named 'sklearn'",
     "output_type": "error",
     "traceback": [
      "\u001b[1;31m---------------------------------------------------------------------------\u001b[0m",
      "\u001b[1;31mModuleNotFoundError\u001b[0m                       Traceback (most recent call last)",
      "Cell \u001b[1;32mIn[1], line 1\u001b[0m\n\u001b[1;32m----> 1\u001b[0m \u001b[38;5;28;01mfrom\u001b[39;00m \u001b[38;5;21;01msklearn\u001b[39;00m\u001b[38;5;21;01m.\u001b[39;00m\u001b[38;5;21;01mmodel_selection\u001b[39;00m \u001b[38;5;28;01mimport\u001b[39;00m train_test_split\n\u001b[0;32m      2\u001b[0m x_train,x_test,y_train,y_test\u001b[38;5;241m=\u001b[39mtrain_test_split(df[[\u001b[38;5;124m\"\u001b[39m\u001b[38;5;124mCurricular units 1st sem (grade)\u001b[39m\u001b[38;5;124m\"\u001b[39m,\u001b[38;5;124m\"\u001b[39m\u001b[38;5;124mCurricular units 2nd sem (grade)\u001b[39m\u001b[38;5;124m\"\u001b[39m]],df[\u001b[38;5;124m\"\u001b[39m\u001b[38;5;124mCurricular units 2nd sem (grade)\u001b[39m\u001b[38;5;124m\"\u001b[39m],test_size\u001b[38;5;241m=\u001b[39m\u001b[38;5;241m0.3\u001b[39m)\n",
      "\u001b[1;31mModuleNotFoundError\u001b[0m: No module named 'sklearn'"
     ]
    }
   ],
   "source": [
    "from sklearn.model_selection import train_test_split\n",
    "x_train,x_test,y_train,y_test=train_test_split(df[[\"Curricular units 1st sem (grade)\",\"Curricular units 2nd sem (grade)\"]],df[\"Curricular units 2nd sem (grade)\"],test_size=0.3)\n"
   ]
  },
  {
   "cell_type": "code",
   "execution_count": 116,
   "id": "4ba39a7d",
   "metadata": {},
   "outputs": [
    {
     "data": {
      "text/html": [
       "<style>#sk-container-id-5 {\n",
       "  /* Definition of color scheme common for light and dark mode */\n",
       "  --sklearn-color-text: black;\n",
       "  --sklearn-color-line: gray;\n",
       "  /* Definition of color scheme for unfitted estimators */\n",
       "  --sklearn-color-unfitted-level-0: #fff5e6;\n",
       "  --sklearn-color-unfitted-level-1: #f6e4d2;\n",
       "  --sklearn-color-unfitted-level-2: #ffe0b3;\n",
       "  --sklearn-color-unfitted-level-3: chocolate;\n",
       "  /* Definition of color scheme for fitted estimators */\n",
       "  --sklearn-color-fitted-level-0: #f0f8ff;\n",
       "  --sklearn-color-fitted-level-1: #d4ebff;\n",
       "  --sklearn-color-fitted-level-2: #b3dbfd;\n",
       "  --sklearn-color-fitted-level-3: cornflowerblue;\n",
       "\n",
       "  /* Specific color for light theme */\n",
       "  --sklearn-color-text-on-default-background: var(--sg-text-color, var(--theme-code-foreground, var(--jp-content-font-color1, black)));\n",
       "  --sklearn-color-background: var(--sg-background-color, var(--theme-background, var(--jp-layout-color0, white)));\n",
       "  --sklearn-color-border-box: var(--sg-text-color, var(--theme-code-foreground, var(--jp-content-font-color1, black)));\n",
       "  --sklearn-color-icon: #696969;\n",
       "\n",
       "  @media (prefers-color-scheme: dark) {\n",
       "    /* Redefinition of color scheme for dark theme */\n",
       "    --sklearn-color-text-on-default-background: var(--sg-text-color, var(--theme-code-foreground, var(--jp-content-font-color1, white)));\n",
       "    --sklearn-color-background: var(--sg-background-color, var(--theme-background, var(--jp-layout-color0, #111)));\n",
       "    --sklearn-color-border-box: var(--sg-text-color, var(--theme-code-foreground, var(--jp-content-font-color1, white)));\n",
       "    --sklearn-color-icon: #878787;\n",
       "  }\n",
       "}\n",
       "\n",
       "#sk-container-id-5 {\n",
       "  color: var(--sklearn-color-text);\n",
       "}\n",
       "\n",
       "#sk-container-id-5 pre {\n",
       "  padding: 0;\n",
       "}\n",
       "\n",
       "#sk-container-id-5 input.sk-hidden--visually {\n",
       "  border: 0;\n",
       "  clip: rect(1px 1px 1px 1px);\n",
       "  clip: rect(1px, 1px, 1px, 1px);\n",
       "  height: 1px;\n",
       "  margin: -1px;\n",
       "  overflow: hidden;\n",
       "  padding: 0;\n",
       "  position: absolute;\n",
       "  width: 1px;\n",
       "}\n",
       "\n",
       "#sk-container-id-5 div.sk-dashed-wrapped {\n",
       "  border: 1px dashed var(--sklearn-color-line);\n",
       "  margin: 0 0.4em 0.5em 0.4em;\n",
       "  box-sizing: border-box;\n",
       "  padding-bottom: 0.4em;\n",
       "  background-color: var(--sklearn-color-background);\n",
       "}\n",
       "\n",
       "#sk-container-id-5 div.sk-container {\n",
       "  /* jupyter's `normalize.less` sets `[hidden] { display: none; }`\n",
       "     but bootstrap.min.css set `[hidden] { display: none !important; }`\n",
       "     so we also need the `!important` here to be able to override the\n",
       "     default hidden behavior on the sphinx rendered scikit-learn.org.\n",
       "     See: https://github.com/scikit-learn/scikit-learn/issues/21755 */\n",
       "  display: inline-block !important;\n",
       "  position: relative;\n",
       "}\n",
       "\n",
       "#sk-container-id-5 div.sk-text-repr-fallback {\n",
       "  display: none;\n",
       "}\n",
       "\n",
       "div.sk-parallel-item,\n",
       "div.sk-serial,\n",
       "div.sk-item {\n",
       "  /* draw centered vertical line to link estimators */\n",
       "  background-image: linear-gradient(var(--sklearn-color-text-on-default-background), var(--sklearn-color-text-on-default-background));\n",
       "  background-size: 2px 100%;\n",
       "  background-repeat: no-repeat;\n",
       "  background-position: center center;\n",
       "}\n",
       "\n",
       "/* Parallel-specific style estimator block */\n",
       "\n",
       "#sk-container-id-5 div.sk-parallel-item::after {\n",
       "  content: \"\";\n",
       "  width: 100%;\n",
       "  border-bottom: 2px solid var(--sklearn-color-text-on-default-background);\n",
       "  flex-grow: 1;\n",
       "}\n",
       "\n",
       "#sk-container-id-5 div.sk-parallel {\n",
       "  display: flex;\n",
       "  align-items: stretch;\n",
       "  justify-content: center;\n",
       "  background-color: var(--sklearn-color-background);\n",
       "  position: relative;\n",
       "}\n",
       "\n",
       "#sk-container-id-5 div.sk-parallel-item {\n",
       "  display: flex;\n",
       "  flex-direction: column;\n",
       "}\n",
       "\n",
       "#sk-container-id-5 div.sk-parallel-item:first-child::after {\n",
       "  align-self: flex-end;\n",
       "  width: 50%;\n",
       "}\n",
       "\n",
       "#sk-container-id-5 div.sk-parallel-item:last-child::after {\n",
       "  align-self: flex-start;\n",
       "  width: 50%;\n",
       "}\n",
       "\n",
       "#sk-container-id-5 div.sk-parallel-item:only-child::after {\n",
       "  width: 0;\n",
       "}\n",
       "\n",
       "/* Serial-specific style estimator block */\n",
       "\n",
       "#sk-container-id-5 div.sk-serial {\n",
       "  display: flex;\n",
       "  flex-direction: column;\n",
       "  align-items: center;\n",
       "  background-color: var(--sklearn-color-background);\n",
       "  padding-right: 1em;\n",
       "  padding-left: 1em;\n",
       "}\n",
       "\n",
       "\n",
       "/* Toggleable style: style used for estimator/Pipeline/ColumnTransformer box that is\n",
       "clickable and can be expanded/collapsed.\n",
       "- Pipeline and ColumnTransformer use this feature and define the default style\n",
       "- Estimators will overwrite some part of the style using the `sk-estimator` class\n",
       "*/\n",
       "\n",
       "/* Pipeline and ColumnTransformer style (default) */\n",
       "\n",
       "#sk-container-id-5 div.sk-toggleable {\n",
       "  /* Default theme specific background. It is overwritten whether we have a\n",
       "  specific estimator or a Pipeline/ColumnTransformer */\n",
       "  background-color: var(--sklearn-color-background);\n",
       "}\n",
       "\n",
       "/* Toggleable label */\n",
       "#sk-container-id-5 label.sk-toggleable__label {\n",
       "  cursor: pointer;\n",
       "  display: block;\n",
       "  width: 100%;\n",
       "  margin-bottom: 0;\n",
       "  padding: 0.5em;\n",
       "  box-sizing: border-box;\n",
       "  text-align: center;\n",
       "}\n",
       "\n",
       "#sk-container-id-5 label.sk-toggleable__label-arrow:before {\n",
       "  /* Arrow on the left of the label */\n",
       "  content: \"▸\";\n",
       "  float: left;\n",
       "  margin-right: 0.25em;\n",
       "  color: var(--sklearn-color-icon);\n",
       "}\n",
       "\n",
       "#sk-container-id-5 label.sk-toggleable__label-arrow:hover:before {\n",
       "  color: var(--sklearn-color-text);\n",
       "}\n",
       "\n",
       "/* Toggleable content - dropdown */\n",
       "\n",
       "#sk-container-id-5 div.sk-toggleable__content {\n",
       "  max-height: 0;\n",
       "  max-width: 0;\n",
       "  overflow: hidden;\n",
       "  text-align: left;\n",
       "  /* unfitted */\n",
       "  background-color: var(--sklearn-color-unfitted-level-0);\n",
       "}\n",
       "\n",
       "#sk-container-id-5 div.sk-toggleable__content.fitted {\n",
       "  /* fitted */\n",
       "  background-color: var(--sklearn-color-fitted-level-0);\n",
       "}\n",
       "\n",
       "#sk-container-id-5 div.sk-toggleable__content pre {\n",
       "  margin: 0.2em;\n",
       "  border-radius: 0.25em;\n",
       "  color: var(--sklearn-color-text);\n",
       "  /* unfitted */\n",
       "  background-color: var(--sklearn-color-unfitted-level-0);\n",
       "}\n",
       "\n",
       "#sk-container-id-5 div.sk-toggleable__content.fitted pre {\n",
       "  /* unfitted */\n",
       "  background-color: var(--sklearn-color-fitted-level-0);\n",
       "}\n",
       "\n",
       "#sk-container-id-5 input.sk-toggleable__control:checked~div.sk-toggleable__content {\n",
       "  /* Expand drop-down */\n",
       "  max-height: 200px;\n",
       "  max-width: 100%;\n",
       "  overflow: auto;\n",
       "}\n",
       "\n",
       "#sk-container-id-5 input.sk-toggleable__control:checked~label.sk-toggleable__label-arrow:before {\n",
       "  content: \"▾\";\n",
       "}\n",
       "\n",
       "/* Pipeline/ColumnTransformer-specific style */\n",
       "\n",
       "#sk-container-id-5 div.sk-label input.sk-toggleable__control:checked~label.sk-toggleable__label {\n",
       "  color: var(--sklearn-color-text);\n",
       "  background-color: var(--sklearn-color-unfitted-level-2);\n",
       "}\n",
       "\n",
       "#sk-container-id-5 div.sk-label.fitted input.sk-toggleable__control:checked~label.sk-toggleable__label {\n",
       "  background-color: var(--sklearn-color-fitted-level-2);\n",
       "}\n",
       "\n",
       "/* Estimator-specific style */\n",
       "\n",
       "/* Colorize estimator box */\n",
       "#sk-container-id-5 div.sk-estimator input.sk-toggleable__control:checked~label.sk-toggleable__label {\n",
       "  /* unfitted */\n",
       "  background-color: var(--sklearn-color-unfitted-level-2);\n",
       "}\n",
       "\n",
       "#sk-container-id-5 div.sk-estimator.fitted input.sk-toggleable__control:checked~label.sk-toggleable__label {\n",
       "  /* fitted */\n",
       "  background-color: var(--sklearn-color-fitted-level-2);\n",
       "}\n",
       "\n",
       "#sk-container-id-5 div.sk-label label.sk-toggleable__label,\n",
       "#sk-container-id-5 div.sk-label label {\n",
       "  /* The background is the default theme color */\n",
       "  color: var(--sklearn-color-text-on-default-background);\n",
       "}\n",
       "\n",
       "/* On hover, darken the color of the background */\n",
       "#sk-container-id-5 div.sk-label:hover label.sk-toggleable__label {\n",
       "  color: var(--sklearn-color-text);\n",
       "  background-color: var(--sklearn-color-unfitted-level-2);\n",
       "}\n",
       "\n",
       "/* Label box, darken color on hover, fitted */\n",
       "#sk-container-id-5 div.sk-label.fitted:hover label.sk-toggleable__label.fitted {\n",
       "  color: var(--sklearn-color-text);\n",
       "  background-color: var(--sklearn-color-fitted-level-2);\n",
       "}\n",
       "\n",
       "/* Estimator label */\n",
       "\n",
       "#sk-container-id-5 div.sk-label label {\n",
       "  font-family: monospace;\n",
       "  font-weight: bold;\n",
       "  display: inline-block;\n",
       "  line-height: 1.2em;\n",
       "}\n",
       "\n",
       "#sk-container-id-5 div.sk-label-container {\n",
       "  text-align: center;\n",
       "}\n",
       "\n",
       "/* Estimator-specific */\n",
       "#sk-container-id-5 div.sk-estimator {\n",
       "  font-family: monospace;\n",
       "  border: 1px dotted var(--sklearn-color-border-box);\n",
       "  border-radius: 0.25em;\n",
       "  box-sizing: border-box;\n",
       "  margin-bottom: 0.5em;\n",
       "  /* unfitted */\n",
       "  background-color: var(--sklearn-color-unfitted-level-0);\n",
       "}\n",
       "\n",
       "#sk-container-id-5 div.sk-estimator.fitted {\n",
       "  /* fitted */\n",
       "  background-color: var(--sklearn-color-fitted-level-0);\n",
       "}\n",
       "\n",
       "/* on hover */\n",
       "#sk-container-id-5 div.sk-estimator:hover {\n",
       "  /* unfitted */\n",
       "  background-color: var(--sklearn-color-unfitted-level-2);\n",
       "}\n",
       "\n",
       "#sk-container-id-5 div.sk-estimator.fitted:hover {\n",
       "  /* fitted */\n",
       "  background-color: var(--sklearn-color-fitted-level-2);\n",
       "}\n",
       "\n",
       "/* Specification for estimator info (e.g. \"i\" and \"?\") */\n",
       "\n",
       "/* Common style for \"i\" and \"?\" */\n",
       "\n",
       ".sk-estimator-doc-link,\n",
       "a:link.sk-estimator-doc-link,\n",
       "a:visited.sk-estimator-doc-link {\n",
       "  float: right;\n",
       "  font-size: smaller;\n",
       "  line-height: 1em;\n",
       "  font-family: monospace;\n",
       "  background-color: var(--sklearn-color-background);\n",
       "  border-radius: 1em;\n",
       "  height: 1em;\n",
       "  width: 1em;\n",
       "  text-decoration: none !important;\n",
       "  margin-left: 1ex;\n",
       "  /* unfitted */\n",
       "  border: var(--sklearn-color-unfitted-level-1) 1pt solid;\n",
       "  color: var(--sklearn-color-unfitted-level-1);\n",
       "}\n",
       "\n",
       ".sk-estimator-doc-link.fitted,\n",
       "a:link.sk-estimator-doc-link.fitted,\n",
       "a:visited.sk-estimator-doc-link.fitted {\n",
       "  /* fitted */\n",
       "  border: var(--sklearn-color-fitted-level-1) 1pt solid;\n",
       "  color: var(--sklearn-color-fitted-level-1);\n",
       "}\n",
       "\n",
       "/* On hover */\n",
       "div.sk-estimator:hover .sk-estimator-doc-link:hover,\n",
       ".sk-estimator-doc-link:hover,\n",
       "div.sk-label-container:hover .sk-estimator-doc-link:hover,\n",
       ".sk-estimator-doc-link:hover {\n",
       "  /* unfitted */\n",
       "  background-color: var(--sklearn-color-unfitted-level-3);\n",
       "  color: var(--sklearn-color-background);\n",
       "  text-decoration: none;\n",
       "}\n",
       "\n",
       "div.sk-estimator.fitted:hover .sk-estimator-doc-link.fitted:hover,\n",
       ".sk-estimator-doc-link.fitted:hover,\n",
       "div.sk-label-container:hover .sk-estimator-doc-link.fitted:hover,\n",
       ".sk-estimator-doc-link.fitted:hover {\n",
       "  /* fitted */\n",
       "  background-color: var(--sklearn-color-fitted-level-3);\n",
       "  color: var(--sklearn-color-background);\n",
       "  text-decoration: none;\n",
       "}\n",
       "\n",
       "/* Span, style for the box shown on hovering the info icon */\n",
       ".sk-estimator-doc-link span {\n",
       "  display: none;\n",
       "  z-index: 9999;\n",
       "  position: relative;\n",
       "  font-weight: normal;\n",
       "  right: .2ex;\n",
       "  padding: .5ex;\n",
       "  margin: .5ex;\n",
       "  width: min-content;\n",
       "  min-width: 20ex;\n",
       "  max-width: 50ex;\n",
       "  color: var(--sklearn-color-text);\n",
       "  box-shadow: 2pt 2pt 4pt #999;\n",
       "  /* unfitted */\n",
       "  background: var(--sklearn-color-unfitted-level-0);\n",
       "  border: .5pt solid var(--sklearn-color-unfitted-level-3);\n",
       "}\n",
       "\n",
       ".sk-estimator-doc-link.fitted span {\n",
       "  /* fitted */\n",
       "  background: var(--sklearn-color-fitted-level-0);\n",
       "  border: var(--sklearn-color-fitted-level-3);\n",
       "}\n",
       "\n",
       ".sk-estimator-doc-link:hover span {\n",
       "  display: block;\n",
       "}\n",
       "\n",
       "/* \"?\"-specific style due to the `<a>` HTML tag */\n",
       "\n",
       "#sk-container-id-5 a.estimator_doc_link {\n",
       "  float: right;\n",
       "  font-size: 1rem;\n",
       "  line-height: 1em;\n",
       "  font-family: monospace;\n",
       "  background-color: var(--sklearn-color-background);\n",
       "  border-radius: 1rem;\n",
       "  height: 1rem;\n",
       "  width: 1rem;\n",
       "  text-decoration: none;\n",
       "  /* unfitted */\n",
       "  color: var(--sklearn-color-unfitted-level-1);\n",
       "  border: var(--sklearn-color-unfitted-level-1) 1pt solid;\n",
       "}\n",
       "\n",
       "#sk-container-id-5 a.estimator_doc_link.fitted {\n",
       "  /* fitted */\n",
       "  border: var(--sklearn-color-fitted-level-1) 1pt solid;\n",
       "  color: var(--sklearn-color-fitted-level-1);\n",
       "}\n",
       "\n",
       "/* On hover */\n",
       "#sk-container-id-5 a.estimator_doc_link:hover {\n",
       "  /* unfitted */\n",
       "  background-color: var(--sklearn-color-unfitted-level-3);\n",
       "  color: var(--sklearn-color-background);\n",
       "  text-decoration: none;\n",
       "}\n",
       "\n",
       "#sk-container-id-5 a.estimator_doc_link.fitted:hover {\n",
       "  /* fitted */\n",
       "  background-color: var(--sklearn-color-fitted-level-3);\n",
       "}\n",
       "</style><div id=\"sk-container-id-5\" class=\"sk-top-container\"><div class=\"sk-text-repr-fallback\"><pre>LinearRegression()</pre><b>In a Jupyter environment, please rerun this cell to show the HTML representation or trust the notebook. <br />On GitHub, the HTML representation is unable to render, please try loading this page with nbviewer.org.</b></div><div class=\"sk-container\" hidden><div class=\"sk-item\"><div class=\"sk-estimator fitted sk-toggleable\"><input class=\"sk-toggleable__control sk-hidden--visually\" id=\"sk-estimator-id-5\" type=\"checkbox\" checked><label for=\"sk-estimator-id-5\" class=\"sk-toggleable__label fitted sk-toggleable__label-arrow fitted\">&nbsp;&nbsp;LinearRegression<a class=\"sk-estimator-doc-link fitted\" rel=\"noreferrer\" target=\"_blank\" href=\"https://scikit-learn.org/1.4/modules/generated/sklearn.linear_model.LinearRegression.html\">?<span>Documentation for LinearRegression</span></a><span class=\"sk-estimator-doc-link fitted\">i<span>Fitted</span></span></label><div class=\"sk-toggleable__content fitted\"><pre>LinearRegression()</pre></div> </div></div></div></div>"
      ],
      "text/plain": [
       "LinearRegression()"
      ]
     },
     "execution_count": 116,
     "metadata": {},
     "output_type": "execute_result"
    }
   ],
   "source": [
    "from sklearn.linear_model import LinearRegression\n",
    "l=LinearRegression()\n",
    "l.fit(x_train,y_train)"
   ]
  },
  {
   "cell_type": "code",
   "execution_count": 117,
   "id": "15f414fe",
   "metadata": {},
   "outputs": [
    {
     "data": {
      "text/plain": [
       "1.0"
      ]
     },
     "execution_count": 117,
     "metadata": {},
     "output_type": "execute_result"
    }
   ],
   "source": [
    "from sklearn.metrics import r2_score\n",
    "r2_score(y_test,l.predict(x_test))\n"
   ]
  },
  {
   "cell_type": "markdown",
   "id": "82363092",
   "metadata": {},
   "source": [
    "MEAN OF DATA SET"
   ]
  },
  {
   "cell_type": "code",
   "execution_count": 118,
   "id": "cafb33f3",
   "metadata": {},
   "outputs": [
    {
     "name": "stdout",
     "output_type": "stream",
     "text": [
      "Curricular units 1st sem (evaluations)\n",
      "0.000000          0.000000\n",
      "4.179106          3.947951\n",
      "6.000000          6.000000\n",
      "8.000000          8.000000\n",
      "8.299051          8.063291\n",
      "10.000000        10.000000\n",
      "45.000000        33.000000\n",
      "4424.000000    4424.000000\n",
      "Name: Curricular units 2nd sem (evaluations), dtype: float64\n"
     ]
    }
   ],
   "source": [
    "grouped_data = df.groupby('Curricular units 1st sem (evaluations)')['Curricular units 2nd sem (evaluations)'].mean()\n",
    "print(grouped_data)"
   ]
  },
  {
   "cell_type": "markdown",
   "id": "aba51266",
   "metadata": {},
   "source": [
    "MEDIAN OF DATA SET"
   ]
  },
  {
   "cell_type": "code",
   "execution_count": 119,
   "id": "f16d4b5e",
   "metadata": {},
   "outputs": [
    {
     "name": "stdout",
     "output_type": "stream",
     "text": [
      "Curricular units 1st sem (evaluations)\n",
      "0.000000          0.000000\n",
      "4.179106          3.947951\n",
      "6.000000          6.000000\n",
      "8.000000          8.000000\n",
      "8.299051          8.063291\n",
      "10.000000        10.000000\n",
      "45.000000        33.000000\n",
      "4424.000000    4424.000000\n",
      "Name: Curricular units 2nd sem (evaluations), dtype: float64\n"
     ]
    }
   ],
   "source": [
    "grouped_data = df.groupby('Curricular units 1st sem (evaluations)')['Curricular units 2nd sem (evaluations)'].median()\n",
    "print(grouped_data)"
   ]
  },
  {
   "cell_type": "markdown",
   "id": "27603bec",
   "metadata": {},
   "source": [
    "CONCLUSION:\n",
    "        THE CORRELATION BETWEEN 1ST SEM, 2ND SEM GRADES AND LINEAR REGRESSION BETWEEN THE GRADES WAS FOUND.\n",
    "        MEAN AND MEDIAN WAS ALSO FOUND."
   ]
  },
  {
   "cell_type": "markdown",
   "id": "e92e075d",
   "metadata": {},
   "source": [
    "FOR VISUALIZATION WE USED BAR PLOTS AND HEATMAPS OF SPEARMANS RANK CORRELATION AND PEARSONS CORRELATION."
   ]
  }
 ],
 "metadata": {
  "kernelspec": {
   "display_name": "Python 3 (ipykernel)",
   "language": "python",
   "name": "python3"
  },
  "language_info": {
   "codemirror_mode": {
    "name": "ipython",
    "version": 3
   },
   "file_extension": ".py",
   "mimetype": "text/x-python",
   "name": "python",
   "nbconvert_exporter": "python",
   "pygments_lexer": "ipython3",
   "version": "3.12.4"
  }
 },
 "nbformat": 4,
 "nbformat_minor": 5
}
